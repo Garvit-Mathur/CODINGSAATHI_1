{
 "cells": [
  {
   "cell_type": "markdown",
   "id": "a20ef3b3",
   "metadata": {},
   "source": [
    "# Iris Flower Classification using Python "
   ]
  },
  {
   "cell_type": "code",
   "execution_count": 1,
   "id": "63fd90d2",
   "metadata": {},
   "outputs": [],
   "source": [
    "import pandas as pd\n",
    "import numpy as np\n",
    "import sklearn\n",
    "from sklearn.datasets import load_iris\n",
    "from sklearn.linear_model import LogisticRegression\n",
    "from sklearn import model_selection\n",
    "from sklearn.model_selection import train_test_split\n",
    "from sklearn.metrics import accuracy_score"
   ]
  },
  {
   "cell_type": "code",
   "execution_count": 2,
   "id": "2ddb174a",
   "metadata": {},
   "outputs": [
    {
     "name": "stdout",
     "output_type": "stream",
     "text": [
      "   sepal length (cm)  sepal width (cm)  petal length (cm)  petal width (cm)  \\\n",
      "0                5.1               3.5                1.4               0.2   \n",
      "1                4.9               3.0                1.4               0.2   \n",
      "2                4.7               3.2                1.3               0.2   \n",
      "3                4.6               3.1                1.5               0.2   \n",
      "4                5.0               3.6                1.4               0.2   \n",
      "\n",
      "   target  \n",
      "0       0  \n",
      "1       0  \n",
      "2       0  \n",
      "3       0  \n",
      "4       0  \n"
     ]
    }
   ],
   "source": [
    "iris = load_iris()\n",
    "df = pd.DataFrame(iris.data, columns = iris.feature_names)\n",
    "df['target'] = iris.target\n",
    "print(df.head())"
   ]
  },
  {
   "cell_type": "code",
   "execution_count": 3,
   "id": "38d3363f",
   "metadata": {},
   "outputs": [],
   "source": [
    "x=iris.data\n",
    "y=iris.target"
   ]
  },
  {
   "cell_type": "code",
   "execution_count": 4,
   "id": "587b2732",
   "metadata": {},
   "outputs": [],
   "source": [
    "x_train,x_test,y_train,y_test=train_test_split(x,y,test_size=0.3,random_state=42)\n",
    "lr=LogisticRegression(random_state=0)\n",
    "mod=lr.fit(x_train,y_train)\n",
    "y_pred=mod.predict(x_test)"
   ]
  },
  {
   "cell_type": "code",
   "execution_count": 5,
   "id": "a0d14368",
   "metadata": {},
   "outputs": [
    {
     "name": "stdout",
     "output_type": "stream",
     "text": [
      "[2]\n",
      "Accuracy :  100.0 %\n"
     ]
    }
   ],
   "source": [
    "input_arr=np.asarray((6.1,2.6,5.6,1.4))\n",
    "input_arr_resh=input_arr.reshape(1,-1)\n",
    "pred=mod.predict(input_arr_resh)\n",
    "print(pred)\n",
    "print(\"Accuracy : \",accuracy_score(y_test,y_pred)*100 ,\"%\")"
   ]
  },
  {
   "cell_type": "code",
   "execution_count": null,
   "id": "c96877da",
   "metadata": {},
   "outputs": [],
   "source": []
  },
  {
   "cell_type": "code",
   "execution_count": null,
   "id": "3b6a707a",
   "metadata": {},
   "outputs": [],
   "source": []
  },
  {
   "cell_type": "code",
   "execution_count": null,
   "id": "a13aa95d",
   "metadata": {},
   "outputs": [],
   "source": []
  },
  {
   "cell_type": "code",
   "execution_count": null,
   "id": "c9bf1948",
   "metadata": {},
   "outputs": [],
   "source": []
  },
  {
   "cell_type": "code",
   "execution_count": null,
   "id": "beda3d4b",
   "metadata": {},
   "outputs": [],
   "source": []
  },
  {
   "cell_type": "code",
   "execution_count": null,
   "id": "c5a47d9b",
   "metadata": {},
   "outputs": [],
   "source": []
  },
  {
   "cell_type": "code",
   "execution_count": 106,
   "id": "089d7fc5",
   "metadata": {},
   "outputs": [
    {
     "name": "stdout",
     "output_type": "stream",
     "text": [
      "         Date    Open    High     Low    Last   Close  Total Trade Quantity  \\\n",
      "0  2018-09-28  234.05  235.95  230.20  233.50  233.75               3069914   \n",
      "1  2018-09-27  234.55  236.80  231.10  233.80  233.25               5082859   \n",
      "2  2018-09-26  240.00  240.00  232.50  235.00  234.25               2240909   \n",
      "3  2018-09-25  233.30  236.75  232.00  236.25  236.10               2349368   \n",
      "4  2018-09-24  233.55  239.20  230.75  234.00  233.30               3423509   \n",
      "\n",
      "   Turnover (Lacs)  \n",
      "0          7162.35  \n",
      "1         11859.95  \n",
      "2          5248.60  \n",
      "3          5503.90  \n",
      "4          7999.55  \n"
     ]
    },
    {
     "ename": "ValueError",
     "evalue": "Unknown label type: 'continuous'",
     "output_type": "error",
     "traceback": [
      "\u001b[1;31m---------------------------------------------------------------------------\u001b[0m",
      "\u001b[1;31mValueError\u001b[0m                                Traceback (most recent call last)",
      "Input \u001b[1;32mIn [106]\u001b[0m, in \u001b[0;36m<cell line: 20>\u001b[1;34m()\u001b[0m\n\u001b[0;32m     16\u001b[0m \u001b[38;5;66;03m# st_x= StandardScaler()    \u001b[39;00m\n\u001b[0;32m     17\u001b[0m \u001b[38;5;66;03m# x_train= st_x.fit_transform(x_train)    \u001b[39;00m\n\u001b[0;32m     18\u001b[0m \u001b[38;5;66;03m# x_test= st_x.transform(x_test)\u001b[39;00m\n\u001b[0;32m     19\u001b[0m lr\u001b[38;5;241m=\u001b[39mLogisticRegression()\n\u001b[1;32m---> 20\u001b[0m mod\u001b[38;5;241m=\u001b[39m\u001b[43mlr\u001b[49m\u001b[38;5;241;43m.\u001b[39;49m\u001b[43mfit\u001b[49m\u001b[43m(\u001b[49m\u001b[43mx_train\u001b[49m\u001b[43m,\u001b[49m\u001b[43my_train\u001b[49m\u001b[43m)\u001b[49m\n\u001b[0;32m     21\u001b[0m y_pred\u001b[38;5;241m=\u001b[39mmod\u001b[38;5;241m.\u001b[39mpredict(x_test)\n\u001b[0;32m     22\u001b[0m input_arr\u001b[38;5;241m=\u001b[39mnp\u001b[38;5;241m.\u001b[39masarray((\u001b[38;5;241m216.35\u001b[39m,\u001b[38;5;241m223.7\u001b[39m,\u001b[38;5;241m212.65\u001b[39m,\u001b[38;5;241m221.65\u001b[39m,\u001b[38;5;241m222.65\u001b[39m,\u001b[38;5;241m4570939\u001b[39m))\n",
      "File \u001b[1;32m~\\anaconda3\\lib\\site-packages\\sklearn\\linear_model\\_logistic.py:1516\u001b[0m, in \u001b[0;36mLogisticRegression.fit\u001b[1;34m(self, X, y, sample_weight)\u001b[0m\n\u001b[0;32m   1506\u001b[0m     _dtype \u001b[38;5;241m=\u001b[39m [np\u001b[38;5;241m.\u001b[39mfloat64, np\u001b[38;5;241m.\u001b[39mfloat32]\n\u001b[0;32m   1508\u001b[0m X, y \u001b[38;5;241m=\u001b[39m \u001b[38;5;28mself\u001b[39m\u001b[38;5;241m.\u001b[39m_validate_data(\n\u001b[0;32m   1509\u001b[0m     X,\n\u001b[0;32m   1510\u001b[0m     y,\n\u001b[1;32m   (...)\u001b[0m\n\u001b[0;32m   1514\u001b[0m     accept_large_sparse\u001b[38;5;241m=\u001b[39msolver \u001b[38;5;129;01mnot\u001b[39;00m \u001b[38;5;129;01min\u001b[39;00m [\u001b[38;5;124m\"\u001b[39m\u001b[38;5;124mliblinear\u001b[39m\u001b[38;5;124m\"\u001b[39m, \u001b[38;5;124m\"\u001b[39m\u001b[38;5;124msag\u001b[39m\u001b[38;5;124m\"\u001b[39m, \u001b[38;5;124m\"\u001b[39m\u001b[38;5;124msaga\u001b[39m\u001b[38;5;124m\"\u001b[39m],\n\u001b[0;32m   1515\u001b[0m )\n\u001b[1;32m-> 1516\u001b[0m \u001b[43mcheck_classification_targets\u001b[49m\u001b[43m(\u001b[49m\u001b[43my\u001b[49m\u001b[43m)\u001b[49m\n\u001b[0;32m   1517\u001b[0m \u001b[38;5;28mself\u001b[39m\u001b[38;5;241m.\u001b[39mclasses_ \u001b[38;5;241m=\u001b[39m np\u001b[38;5;241m.\u001b[39munique(y)\n\u001b[0;32m   1519\u001b[0m multi_class \u001b[38;5;241m=\u001b[39m _check_multi_class(\u001b[38;5;28mself\u001b[39m\u001b[38;5;241m.\u001b[39mmulti_class, solver, \u001b[38;5;28mlen\u001b[39m(\u001b[38;5;28mself\u001b[39m\u001b[38;5;241m.\u001b[39mclasses_))\n",
      "File \u001b[1;32m~\\anaconda3\\lib\\site-packages\\sklearn\\utils\\multiclass.py:197\u001b[0m, in \u001b[0;36mcheck_classification_targets\u001b[1;34m(y)\u001b[0m\n\u001b[0;32m    189\u001b[0m y_type \u001b[38;5;241m=\u001b[39m type_of_target(y)\n\u001b[0;32m    190\u001b[0m \u001b[38;5;28;01mif\u001b[39;00m y_type \u001b[38;5;129;01mnot\u001b[39;00m \u001b[38;5;129;01min\u001b[39;00m [\n\u001b[0;32m    191\u001b[0m     \u001b[38;5;124m\"\u001b[39m\u001b[38;5;124mbinary\u001b[39m\u001b[38;5;124m\"\u001b[39m,\n\u001b[0;32m    192\u001b[0m     \u001b[38;5;124m\"\u001b[39m\u001b[38;5;124mmulticlass\u001b[39m\u001b[38;5;124m\"\u001b[39m,\n\u001b[1;32m   (...)\u001b[0m\n\u001b[0;32m    195\u001b[0m     \u001b[38;5;124m\"\u001b[39m\u001b[38;5;124mmultilabel-sequences\u001b[39m\u001b[38;5;124m\"\u001b[39m,\n\u001b[0;32m    196\u001b[0m ]:\n\u001b[1;32m--> 197\u001b[0m     \u001b[38;5;28;01mraise\u001b[39;00m \u001b[38;5;167;01mValueError\u001b[39;00m(\u001b[38;5;124m\"\u001b[39m\u001b[38;5;124mUnknown label type: \u001b[39m\u001b[38;5;132;01m%r\u001b[39;00m\u001b[38;5;124m\"\u001b[39m \u001b[38;5;241m%\u001b[39m y_type)\n",
      "\u001b[1;31mValueError\u001b[0m: Unknown label type: 'continuous'"
     ]
    }
   ],
   "source": [
    "import pandas as pd\n",
    "import numpy as np\n",
    "import sklearn\n",
    "from sklearn.linear_model import LogisticRegression\n",
    "# from sklearn.neighbors import KNeighborsClassifier  \n",
    "from sklearn.model_selection import train_test_split\n",
    "from sklearn.metrics import r2_score\n",
    "# from sklearn.preprocessing import StandardScaler   \n",
    "from sklearn.metrics import accuracy_score\n",
    "\n",
    "data=pd.read_csv(\"D:\\Coding Saathi\\Task2.csv\")\n",
    "print(data.head())\n",
    "x=data.iloc[:,1:-1]\n",
    "y=data.iloc[:,-1]\n",
    "x_train,x_test,y_train,y_test=train_test_split(x,y,test_size=0.3,random_state=42)\n",
    "# st_x= StandardScaler()    \n",
    "# x_train= st_x.fit_transform(x_train)    \n",
    "# x_test= st_x.transform(x_test)\n",
    "lr=LogisticRegression()\n",
    "mod=lr.fit(x_train,y_train)\n",
    "y_pred=mod.predict(x_test)\n",
    "input_arr=np.asarray((216.35,223.7,212.65,221.65,222.65,4570939))\n",
    "input_arr_resh=input_arr.reshape(1,-1)\n",
    "prediction=mod.predict(input_arr_resh)\n",
    "print(prediction)\n",
    "print(\"Accuracy : \",accuracy_score(y_pred,y_test))"
   ]
  },
  {
   "cell_type": "code",
   "execution_count": 53,
   "id": "012db1af",
   "metadata": {},
   "outputs": [
    {
     "name": "stdout",
     "output_type": "stream",
     "text": [
      "d\n"
     ]
    }
   ],
   "source": [
    "n=4\n",
    "arr=['d','d','d','d']\n",
    "a=sorted(arr,key=len)\n",
    "for i in range(len(a[0])+1):\n",
    "    for j in range(n):\n",
    "        if(a[0][:i] in a[j]):\n",
    "            f=1\n",
    "            temp=a[0][:i]\n",
    "        else:\n",
    "            f=0\n",
    "\n",
    "if(f==1):\n",
    "    print(temp)\n",
    "else:\n",
    "    print(-1)"
   ]
  },
  {
   "cell_type": "code",
   "execution_count": 82,
   "id": "cc29189d",
   "metadata": {},
   "outputs": [
    {
     "name": "stdout",
     "output_type": "stream",
     "text": [
      "[1, 3, 6, 4, 9]\n",
      "[2, 5, 9, 8, 14]\n",
      "[3, 7, 12, 12, 19]\n",
      "[4, 9, 15, 16, 24]\n",
      "[5, 11, 18, 20, 29]\n"
     ]
    },
    {
     "data": {
      "text/plain": [
       "[9, 14, 19, 24, 29]"
      ]
     },
     "execution_count": 82,
     "metadata": {},
     "output_type": "execute_result"
    }
   ],
   "source": [
    "arr= [1,2,3,-2,5]\n",
    "# arr=[-1,-2,-3,-4]\n",
    "\n",
    "l2=[]\n",
    "for j in range(len(arr)):\n",
    "    sum=0\n",
    "    l1=[]\n",
    "    for i in arr:\n",
    "        sum=sum+i+j\n",
    "        l1.append(sum)\n",
    "# ind=l1.index(max(l1))\n",
    "# ans=arr[:ind]\n",
    "# ans\n",
    "    l2.append(max(l1))\n",
    "    print(l1)\n",
    "ans=max(l2)\n",
    "ans\n",
    "l2\n"
   ]
  },
  {
   "cell_type": "code",
   "execution_count": 90,
   "id": "31083a3b",
   "metadata": {},
   "outputs": [
    {
     "name": "stdout",
     "output_type": "stream",
     "text": [
      "[1, 2, 3, -2, 5]\n"
     ]
    },
    {
     "ename": "TypeError",
     "evalue": "'int' object is not callable",
     "output_type": "error",
     "traceback": [
      "\u001b[1;31m---------------------------------------------------------------------------\u001b[0m",
      "\u001b[1;31mTypeError\u001b[0m                                 Traceback (most recent call last)",
      "Input \u001b[1;32mIn [90]\u001b[0m, in \u001b[0;36m<cell line: 2>\u001b[1;34m()\u001b[0m\n\u001b[0;32m      3\u001b[0m     a\u001b[38;5;241m=\u001b[39marr[i:]\n\u001b[0;32m      4\u001b[0m     \u001b[38;5;28mprint\u001b[39m(a)\n\u001b[1;32m----> 5\u001b[0m     sum1\u001b[38;5;241m=\u001b[39m \u001b[38;5;28;43msum\u001b[39;49m\u001b[43m(\u001b[49m\u001b[43ma\u001b[49m\u001b[43m)\u001b[49m\n\u001b[0;32m      6\u001b[0m sum1\n",
      "\u001b[1;31mTypeError\u001b[0m: 'int' object is not callable"
     ]
    }
   ],
   "source": [
    "arr= [1,2,3,-2,5]\n",
    "for i in range(len(arr)):\n",
    "    a=arr[i:]\n",
    "    print(a)\n",
    "    sum1= sum(a)\n",
    "sum1"
   ]
  },
  {
   "cell_type": "code",
   "execution_count": 109,
   "id": "a634350f",
   "metadata": {},
   "outputs": [
    {
     "name": "stdout",
     "output_type": "stream",
     "text": [
      "[]\n",
      "[2]\n",
      "[2, 3]\n",
      "[[], [2], [2, 3]]\n"
     ]
    }
   ],
   "source": [
    "a=[2,3,1]\n",
    "l1=[]\n",
    "for i in range(len(a)):\n",
    "        if(a[:i] not in a[i:]):\n",
    "            print(a[:i])\n",
    "            l1.append(a[:i])\n",
    "print(l1)"
   ]
  },
  {
   "cell_type": "code",
   "execution_count": 157,
   "id": "34e12b10",
   "metadata": {},
   "outputs": [
    {
     "data": {
      "text/plain": [
       "[[1], [2], [2]]"
      ]
     },
     "execution_count": 157,
     "metadata": {},
     "output_type": "execute_result"
    }
   ],
   "source": [
    "a=[1,2,2]\n",
    "l2=[]\n",
    "for i in a:\n",
    "    l1=[]\n",
    "    l1.append(i)\n",
    "    l2.append(l1)\n",
    "for i in range(len(l2)):\n",
    "    for j in range(len(a)):\n",
    "        if(a[j] not in l2[i]):\n",
    "            l3=l2[i].append()"
   ]
  },
  {
   "cell_type": "code",
   "execution_count": null,
   "id": "6a376d1e",
   "metadata": {},
   "outputs": [],
   "source": [
    "//Lift struggle problem coding Ninja\n",
    "from typing import *\n",
    "\n",
    "\n",
    "def liftStruggle(d: int) -> int:\n",
    "    if(d==0):\n",
    "        return 0\n",
    "    if(d%3==0):\n",
    "        return (d//3)\n",
    "    else:\n",
    "        i=(3*((d//3)+1))\n",
    "        count=(d//3)+1\n",
    "        while((i-d)%2!=0):\n",
    "            i+=3\n",
    "            count+=1\n",
    "        count+=(i-d)//2\n",
    "        return count\n",
    "\n",
    "\n",
    "    pass"
   ]
  },
  {
   "cell_type": "code",
   "execution_count": 185,
   "id": "2ebd10e5",
   "metadata": {
    "scrolled": true
   },
   "outputs": [
    {
     "ename": "ValueError",
     "evalue": "attempt to assign sequence of size 6 to extended slice of size 3",
     "output_type": "error",
     "traceback": [
      "\u001b[1;31m---------------------------------------------------------------------------\u001b[0m",
      "\u001b[1;31mValueError\u001b[0m                                Traceback (most recent call last)",
      "Input \u001b[1;32mIn [185]\u001b[0m, in \u001b[0;36m<cell line: 3>\u001b[1;34m()\u001b[0m\n\u001b[0;32m      1\u001b[0m n \u001b[38;5;241m=\u001b[39m \u001b[38;5;241m6\u001b[39m\n\u001b[0;32m      2\u001b[0m arr\u001b[38;5;241m=\u001b[39m[\u001b[38;5;241m1\u001b[39m,\u001b[38;5;241m2\u001b[39m,\u001b[38;5;241m3\u001b[39m,\u001b[38;5;241m4\u001b[39m,\u001b[38;5;241m5\u001b[39m,\u001b[38;5;241m6\u001b[39m]\n\u001b[1;32m----> 3\u001b[0m arr[::\u001b[38;5;241m2\u001b[39m]\u001b[38;5;241m=\u001b[39m\u001b[38;5;28msorted\u001b[39m(arr[\u001b[38;5;241m-\u001b[39m\u001b[38;5;241m1\u001b[39m::\u001b[38;5;241m-\u001b[39m\u001b[38;5;241m1\u001b[39m],reverse\u001b[38;5;241m=\u001b[39m\u001b[38;5;28;01mTrue\u001b[39;00m)\n\u001b[0;32m      5\u001b[0m \u001b[38;5;66;03m# arr[1::2]=arr[1::2]\u001b[39;00m\n\u001b[0;32m      6\u001b[0m \u001b[38;5;66;03m# maximum=sorted(arr,reverse=True)\u001b[39;00m\n\u001b[0;32m      7\u001b[0m \u001b[38;5;66;03m# minimum=arr\u001b[39;00m\n\u001b[1;32m   (...)\u001b[0m\n\u001b[0;32m     12\u001b[0m \u001b[38;5;66;03m#     else:\u001b[39;00m\n\u001b[0;32m     13\u001b[0m \u001b[38;5;66;03m#         l1.append(minimum.pop(0))\u001b[39;00m\n\u001b[0;32m     14\u001b[0m arr\n",
      "\u001b[1;31mValueError\u001b[0m: attempt to assign sequence of size 6 to extended slice of size 3"
     ]
    }
   ],
   "source": [
    "n = 6\n",
    "arr=[1,2,3,4,5,6]\n",
    "arr[::2]=sorted(arr[-1::-1],reverse=True)\n",
    "\n",
    "# arr[1::2]=arr[1::2]\n",
    "# maximum=sorted(arr,reverse=True)\n",
    "# minimum=arr\n",
    "# l1=[]\n",
    "# for i in range(len(arr)):\n",
    "#     if(i%2==0):\n",
    "#         l1.append(maximum.pop(0))\n",
    "#     else:\n",
    "#         l1.append(minimum.pop(0))\n",
    "arr"
   ]
  },
  {
   "cell_type": "code",
   "execution_count": 9,
   "id": "0bab1988",
   "metadata": {},
   "outputs": [
    {
     "name": "stdout",
     "output_type": "stream",
     "text": [
      "[1, 2, 3, 4, 5, 6]\n"
     ]
    }
   ],
   "source": []
  },
  {
   "cell_type": "code",
   "execution_count": 20,
   "id": "81ab0053",
   "metadata": {},
   "outputs": [
    {
     "name": "stdout",
     "output_type": "stream",
     "text": [
      "[8, 1, 2, 3]\n",
      "3\n",
      "2\n",
      "1\n",
      "8\n",
      "[8, 1, 2, 3, 1, 2, 5, 6, 7, 8, 9]\n"
     ]
    }
   ],
   "source": [
    "N = 11 \n",
    "M = 4\n",
    "A1 = [2, 1, 2, 5, 7, 1, 9, 3, 6, 8, 8]\n",
    "A2 = [2, 1, 8, 3]\n",
    "A2=list(set(A2))\n",
    "A1=sorted(A1)\n",
    "print(A2)\n",
    "for i in range(M-1,-1,-1):\n",
    "    print(A2[i])\n",
    "    j=0\n",
    "    while(j<N):\n",
    "        if(A2[i]==A1[j]):\n",
    "            A1.remove(A1[j])\n",
    "            A1.insert(0,A2[i])\n",
    "        j+=1\n",
    "print(A1)"
   ]
  }
 ],
 "metadata": {
  "kernelspec": {
   "display_name": "Python 3 (ipykernel)",
   "language": "python",
   "name": "python3"
  },
  "language_info": {
   "codemirror_mode": {
    "name": "ipython",
    "version": 3
   },
   "file_extension": ".py",
   "mimetype": "text/x-python",
   "name": "python",
   "nbconvert_exporter": "python",
   "pygments_lexer": "ipython3",
   "version": "3.9.12"
  }
 },
 "nbformat": 4,
 "nbformat_minor": 5
}
